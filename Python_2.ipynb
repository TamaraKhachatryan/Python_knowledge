{
  "nbformat": 4,
  "nbformat_minor": 0,
  "metadata": {
    "colab": {
      "provenance": []
    },
    "kernelspec": {
      "name": "python3",
      "display_name": "Python 3"
    },
    "language_info": {
      "name": "python"
    }
  },
  "cells": [
    {
      "cell_type": "markdown",
      "metadata": {
        "id": "jeqLsQ8mFync"
      },
      "source": [
        "#PYTHON 2 OOP"
      ]
    },
    {
      "cell_type": "code",
      "execution_count": null,
      "metadata": {
        "colab": {
          "base_uri": "https://localhost:8080/"
        },
        "id": "czwSa83cFEVN",
        "outputId": "dc67bb5f-a90c-4fb6-9f85-0ad72bde2fa1"
      },
      "outputs": [
        {
          "name": "stdout",
          "output_type": "stream",
          "text": [
            "Kar 23\n",
            "Tam 24\n"
          ]
        }
      ],
      "source": [
        "#xndir1\n",
        "class kar:\n",
        "  subject=\"oop\"\n",
        "  def __init__(self,name, age):\n",
        "    self.name =  name\n",
        "    self.age = age\n",
        "\n",
        "  def show(self):\n",
        "    print(self.name, self.age)\n",
        "\n",
        "Kar = kar(\"Kar\", \"23\")\n",
        "Kar.show()\n",
        "\n",
        "Tam = kar(\"Tam\", \"24\")\n",
        "Tam.show()"
      ]
    },
    {
      "cell_type": "code",
      "execution_count": null,
      "metadata": {
        "colab": {
          "base_uri": "https://localhost:8080/"
        },
        "id": "xj66G8zc3KiZ",
        "outputId": "dbcec491-644a-41df-b995-8f0eb6faefec"
      },
      "outputs": [
        {
          "name": "stdout",
          "output_type": "stream",
          "text": [
            "Kar\n",
            "Tam\n"
          ]
        }
      ],
      "source": [
        "#xndir2\n",
        "class Person:\n",
        "  def __init__(self, name, age):\n",
        "\n",
        "    self.name = name\n",
        "    self.age = age\n",
        "\n",
        "obj1 = Person(\"Kar\", 23)\n",
        "print(obj1.name)\n",
        "obj2=Person(\"Tam\", 24)\n",
        "print(obj2.name)"
      ]
    },
    {
      "cell_type": "code",
      "execution_count": null,
      "metadata": {
        "colab": {
          "base_uri": "https://localhost:8080/"
        },
        "id": "zIbnNVfJ3eX4",
        "outputId": "205182b1-87b6-4dc1-ab6e-52d6dd75b8af"
      },
      "outputs": [
        {
          "name": "stdout",
          "output_type": "stream",
          "text": [
            "Kar 23\n",
            "Tam 24\n"
          ]
        }
      ],
      "source": [
        "#xndir2-mas2\n",
        "class Person:\n",
        "  def __init__(self, name, age):\n",
        "    self.name = name\n",
        "    self.age = age\n",
        "\n",
        "  def show(self):\n",
        "      print(self.name, self.age)\n",
        "obj1 = Person(\"Kar\", 23)\n",
        "obj1.show()\n",
        "obj2=Person(\"Tam\", 24)\n",
        "obj2.show()\n"
      ]
    },
    {
      "cell_type": "code",
      "execution_count": null,
      "metadata": {
        "colab": {
          "base_uri": "https://localhost:8080/"
        },
        "id": "cjun8LET4WoY",
        "outputId": "534a0ef9-4c17-4d40-fe87-574b021d0733"
      },
      "outputs": [
        {
          "name": "stdout",
          "output_type": "stream",
          "text": [
            "person name is Kar, ages 23\n",
            "person name is Tam, ages 24\n"
          ]
        }
      ],
      "source": [
        "#xndir2-mas3\n",
        "class Person:\n",
        "  count = 0\n",
        "  def __init__(self, name, age):\n",
        "    self.name = name\n",
        "    self.age = age\n",
        "    Person.count += 1\n",
        "  def show(self):\n",
        "      print(self.name, self.age)\n",
        "  def __str__(self):\n",
        "    return f\"person name is {self.name}, ages {self.age}\"\n",
        "obj1 = Person(\"Kar\", 23)\n",
        "obj2=Person(\"Tam\", 24)\n",
        "print(obj1)\n",
        "print(obj2)"
      ]
    },
    {
      "cell_type": "code",
      "execution_count": null,
      "metadata": {
        "colab": {
          "base_uri": "https://localhost:8080/"
        },
        "id": "d4L6dyW-5hGR",
        "outputId": "e5d40c8a-8d38-44fa-e9c3-3ca1b8677208"
      },
      "outputs": [
        {
          "name": "stdout",
          "output_type": "stream",
          "text": [
            "Kar 23\n",
            "Tam 24\n",
            "Angel 18\n",
            "Harut 16\n",
            "person name is Kar, ages 23\n",
            "person name is Kar, ages 23\n",
            "person name is Tam, ages 24\n",
            "person name is Angel, ages 18\n",
            "person name is Harut, ages 16\n"
          ]
        }
      ],
      "source": [
        "#xndir3\n",
        "class Student:\n",
        "  def __init__(self, name, age, cours):\n",
        "    self.name = name\n",
        "    self.age = age\n",
        "    self.cours = cours\n",
        "  def show(self):\n",
        "    print(self.name, end =\"\")\n",
        "    print(self.age, end =\"\")\n",
        "    print(self.cours)\n",
        "  def __str__(self):\n",
        "    return f\"My name is {self.name}, ages {self.age}\"\n",
        "\n",
        "obj1 = Person(\"Kar\", 23)\n",
        "obj2=Person(\"Tam\", 24)\n",
        "obj3=Person(\"Angel\", 18)\n",
        "obj4=Person(\"Harut\", 16)\n",
        "objs = [obj1, obj2, obj3, obj4]\n",
        "\n",
        "for i in objs:\n",
        "  i.show()\n",
        "print(obj1)\n",
        "for i in objs:\n",
        "  print(i)"
      ]
    }
  ]
}
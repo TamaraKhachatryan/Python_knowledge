{
  "nbformat": 4,
  "nbformat_minor": 0,
  "metadata": {
    "colab": {
      "provenance": []
    },
    "kernelspec": {
      "name": "python3",
      "display_name": "Python 3"
    },
    "language_info": {
      "name": "python"
    }
  },
  "cells": [
    {
      "cell_type": "markdown",
      "source": [
        "#PYTHON"
      ],
      "metadata": {
        "id": "3MspiO4yB2va"
      }
    },
    {
      "cell_type": "code",
      "source": [
        "# 1 xndir - stanal eranish tvi` 945-i arandzin tvanshannery\n",
        "a=945\n",
        "print(a%10)\n",
        "print(a//100)\n",
        "print(a%100//10)\n",
        "print(a//10%10)"
      ],
      "metadata": {
        "colab": {
          "base_uri": "https://localhost:8080/"
        },
        "id": "kzDI4WV41ePU",
        "outputId": "c10a1e1e-0658-43dc-d815-1716aab8a67d"
      },
      "execution_count": null,
      "outputs": [
        {
          "output_type": "stream",
          "name": "stdout",
          "text": [
            "5\n",
            "9\n",
            "4\n",
            "4\n"
          ]
        }
      ]
    },
    {
      "cell_type": "code",
      "source": [
        "#2 xndir - voroshel koordinatayin hamakargi vor masum e gtnvum kety\n",
        "x = int(input())\n",
        "y = int(input())\n",
        "if x>0 and y>0:\n",
        "  print(\"1 mas\")\n",
        "elif x<0 and y>0:\n",
        "  print(\"2 mas\")\n",
        "elif x<0 and y<0:\n",
        "    print(\"3 mas\")\n",
        "else:\n",
        "      print(\"4 mas\")"
      ],
      "metadata": {
        "colab": {
          "base_uri": "https://localhost:8080/"
        },
        "id": "DvZrtrAHwghf",
        "outputId": "ef0f418f-8ff5-4454-8421-2601b82ea700"
      },
      "execution_count": null,
      "outputs": [
        {
          "output_type": "stream",
          "name": "stdout",
          "text": [
            "-1\n",
            "2\n",
            "2mas\n"
          ]
        }
      ]
    },
    {
      "cell_type": "code",
      "source": [
        "#3 xndir - voroshel koordinatayin hamakargi vor masum e gtnvum kety\n",
        "def Tam(x,y):\n",
        "  if x>0 and y>0:\n",
        "    print(\"1 mas\")\n",
        "  elif x<0 and y>0:\n",
        "    print(\"2 mas\")\n",
        "  elif x<0 and y<0:\n",
        "    print(\"3 mas\")\n",
        "  else:\n",
        "    print(\"4 mas\")\n",
        "Tam(1,3)\n",
        "Tam(-4,10)\n",
        "Tam(-6,-7)\n",
        "Tam(11,-20)"
      ],
      "metadata": {
        "colab": {
          "base_uri": "https://localhost:8080/"
        },
        "id": "G4KURwtL1Bj9",
        "outputId": "491f7ee7-a57e-4b6e-dd97-353cfa68093b"
      },
      "execution_count": null,
      "outputs": [
        {
          "output_type": "stream",
          "name": "stdout",
          "text": [
            "1 mas\n",
            "2 mas\n",
            "3 mas\n",
            "4 mas\n"
          ]
        }
      ]
    },
    {
      "cell_type": "code",
      "source": [
        "#4 xndir - diskriminant (D)\n",
        "import math\n",
        "a=int(input(\"a\"))\n",
        "b=int(input(\"b\"))\n",
        "c=int(input(\"c\"))\n",
        "D=b**2-4*a*c\n",
        "if D>0:\n",
        "  x1 = (-b+D**0.5)/(2*a)\n",
        "  x2=(-b+math.sqrt(D))/(2*a)\n",
        "elif D==0:\n",
        "  x1=x2=-b/2*a\n",
        "else:\n",
        "  x1=x2= \"error\"\n",
        "print(x1, x2)"
      ],
      "metadata": {
        "colab": {
          "base_uri": "https://localhost:8080/"
        },
        "id": "3CJnq4ZcH5tM",
        "outputId": "4329887d-e029-4209-99b5-862f7daa9b15"
      },
      "execution_count": null,
      "outputs": [
        {
          "output_type": "stream",
          "name": "stdout",
          "text": [
            "a1\n",
            "b3\n",
            "c5\n",
            "error error\n"
          ]
        }
      ]
    },
    {
      "cell_type": "code",
      "source": [
        "#5 xndir - stanal listi miji listi elementneri gumary\n",
        "list2=[[10,15,2],[5,8,7],[22,8,5]]\n",
        "list1=[]\n",
        "for i in list2:\n",
        "  sum1=0\n",
        "  for j in i:\n",
        "    sum1+=j\n",
        "  list1.append(sum1)\n",
        "print(list1)"
      ],
      "metadata": {
        "id": "ZOVeN5lZ8NGu",
        "colab": {
          "base_uri": "https://localhost:8080/"
        },
        "outputId": "3ba14954-7fbb-486a-d083-d691e097324e"
      },
      "execution_count": null,
      "outputs": [
        {
          "output_type": "stream",
          "name": "stdout",
          "text": [
            "[27, 20, 35]\n"
          ]
        }
      ]
    },
    {
      "cell_type": "code",
      "source": [
        "#6 xndir - stanal listi zuyg ev kent elementneri qanaky\n",
        "a=[[10,15,2],[5,8,7],[22,8,5]]\n",
        "s=0\n",
        "q=0\n",
        "for i in a:\n",
        "    for j in i:\n",
        "        if j%2==0:\n",
        "          s+=1\n",
        "        else:\n",
        "          q+=1\n",
        "print(s)\n",
        "print(q)"
      ],
      "metadata": {
        "colab": {
          "base_uri": "https://localhost:8080/"
        },
        "id": "v3ZS1dvE4ExP",
        "outputId": "446fcbc9-d6e5-4e44-a842-2717a0405875"
      },
      "execution_count": null,
      "outputs": [
        {
          "output_type": "stream",
          "name": "stdout",
          "text": [
            "5\n",
            "4\n"
          ]
        }
      ]
    },
    {
      "cell_type": "code",
      "source": [
        "#7 xndir - stanal nor list, vori elementnery chlinen krknvox ev chlinen zuyg\n",
        "lst3=[-6, -5, -11, 7, 7, -11, -24, -24]\n",
        "lst4 =[]\n",
        "for i in lst3:\n",
        "  if i not in lst4 and i%2!=0:\n",
        "    lst4.append(i)\n",
        "print(lst4)"
      ],
      "metadata": {
        "id": "FtiCAvd63qzU",
        "colab": {
          "base_uri": "https://localhost:8080/"
        },
        "outputId": "33528200-cc04-4915-f08b-30c463732c97"
      },
      "execution_count": null,
      "outputs": [
        {
          "output_type": "stream",
          "name": "stdout",
          "text": [
            "[-5, -11, 7]\n"
          ]
        }
      ]
    },
    {
      "cell_type": "code",
      "source": [
        "#8 xndir - stanal patahakan dzevov list, stanal list-i ayn elementnery voronc indexnery zuyg en. vercnel ayd elementneri qanaky ev gumary\n",
        "import random\n",
        "n = random.randint (1,10)\n",
        "a = []\n",
        "for i in range(n):\n",
        "  a.append(random.randint(1,100))\n",
        "print(a)\n",
        "s = 0\n",
        "q = 0\n",
        "for i, j in enumerate(a): #i- index, j-element\n",
        "  print(i, j)\n",
        "  if i%2==0:\n",
        "    s+=j\n",
        "    q+=1\n",
        "print(s,q)"
      ],
      "metadata": {
        "colab": {
          "base_uri": "https://localhost:8080/"
        },
        "id": "j-GDslv04iLb",
        "outputId": "bdfda4d6-e8fb-471d-a03b-a439cbf8d4e9"
      },
      "execution_count": null,
      "outputs": [
        {
          "output_type": "stream",
          "name": "stdout",
          "text": [
            "[11, 83, 99, 94, 85]\n",
            "0 11\n",
            "1 83\n",
            "2 99\n",
            "3 94\n",
            "4 85\n",
            "195 3\n"
          ]
        }
      ]
    },
    {
      "cell_type": "code",
      "source": [
        "#9 xndir - stanal listi tveri tvanshanneri gumary\n",
        "I=[12, 15, 485, 2015]\n",
        "a=[]\n",
        "for i in I:\n",
        "  s=0\n",
        "  while i>0:\n",
        "    s+=i%10\n",
        "    i//=10\n",
        "  a.append(s)\n",
        "print(a)"
      ],
      "metadata": {
        "colab": {
          "base_uri": "https://localhost:8080/"
        },
        "id": "8WWCXNEit7Xo",
        "outputId": "05d83d87-7c6c-4e6e-9dac-c54e15f6606a"
      },
      "execution_count": null,
      "outputs": [
        {
          "output_type": "stream",
          "name": "stdout",
          "text": [
            "[3, 6, 17, 8]\n"
          ]
        }
      ]
    },
    {
      "cell_type": "code",
      "source": [
        "#10 xndir - stanal nor list, vori elementnery naxord listi elementnern en` qarakusi bardzracrac\n",
        "A=[[1,2,3],[4,5,6],[7,8,9]]\n",
        "A=[[x**2 for x in row] for row in A]\n",
        "print(A)"
      ],
      "metadata": {
        "colab": {
          "base_uri": "https://localhost:8080/"
        },
        "id": "rf9F5qCqrvg6",
        "outputId": "980558a0-3f71-4368-bc03-5d0e7cf339fd"
      },
      "execution_count": null,
      "outputs": [
        {
          "output_type": "stream",
          "name": "stdout",
          "text": [
            "[[1, 4, 9], [16, 25, 36], [49, 64, 81]]\n"
          ]
        }
      ]
    },
    {
      "cell_type": "code",
      "source": [
        "#11 xndir - stanal matric, i-n toxn e, j-n  syunn e\n",
        "a=[]\n",
        "for i in range(3):\n",
        "  b=[]\n",
        "  for j in range(3):\n",
        "      if i==j:\n",
        "        b.append(1)\n",
        "      elif i>j:\n",
        "        b.append(2)\n",
        "      else:\n",
        "        b.append(0)\n",
        "  a.append(b)\n",
        "print(a)\n",
        "for i in a:\n",
        "    print(i)"
      ],
      "metadata": {
        "colab": {
          "base_uri": "https://localhost:8080/"
        },
        "id": "Ilmi8WY06rBX",
        "outputId": "4b0e08dc-b449-4379-91f3-e9378cce3d04"
      },
      "execution_count": null,
      "outputs": [
        {
          "output_type": "stream",
          "name": "stdout",
          "text": [
            "[[1, 0, 0], [2, 1, 0], [2, 2, 1]]\n",
            "[1, 0, 0]\n",
            "[2, 1, 0]\n",
            "[2, 2, 1]\n"
          ]
        }
      ]
    },
    {
      "cell_type": "code",
      "source": [
        "#12 xndir - stanal matric, vori verevi erankyunin lini bacasakan tverov, nerqevi erankyunin lini drakan tverov\n",
        "import random\n",
        "a = []\n",
        "n = random.randint(2,10)\n",
        "for i in range(n):\n",
        "  b=[]\n",
        "  for j in range(n):\n",
        "    if i==j:\n",
        "      b.append(1)\n",
        "    elif i>j:\n",
        "        b.append(random.randint(0,10))\n",
        "    else:\n",
        "          b.append(random.randint(-10,0))\n",
        "  a.append(b)\n",
        "print(a)\n",
        "for i in a:\n",
        "    print(i)"
      ],
      "metadata": {
        "colab": {
          "base_uri": "https://localhost:8080/"
        },
        "id": "uYjO_3G1Fs9u",
        "outputId": "5fa555f6-5c16-4335-e6e2-3edcecd4c7d3"
      },
      "execution_count": null,
      "outputs": [
        {
          "output_type": "stream",
          "name": "stdout",
          "text": [
            "[[1, -1, -4], [1, 1, -3], [2, 9, 1]]\n",
            "[1, -1, -4]\n",
            "[1, 1, -3]\n",
            "[2, 9, 1]\n"
          ]
        }
      ]
    },
    {
      "cell_type": "code",
      "source": [
        "#13 xndir - stananq bareri erkarutyuny\n",
        "t=['Tamara', 'Khachatryan', 'Magistratura', 'arajin', 'kurs']\n",
        "a=[len(d) for d in t]\n",
        "print(a)"
      ],
      "metadata": {
        "colab": {
          "base_uri": "https://localhost:8080/"
        },
        "id": "2lZR3-ycZPEj",
        "outputId": "c1eb984e-d2cd-40aa-b0f0-5416e23d7c68"
      },
      "execution_count": null,
      "outputs": [
        {
          "output_type": "stream",
          "name": "stdout",
          "text": [
            "[6, 11, 12, 6, 4]\n"
          ]
        }
      ]
    },
    {
      "cell_type": "code",
      "source": [
        "#14 xndir - stanal  ayn barery, voronc erkarutyuny chi gerazancum 7-y\n",
        "b=['Tamara', 'Khachatryan', 'Magistratura', 'arajin', 'kurs']\n",
        "a=[Tamara for Tamara in b if len(Tamara)<7]\n",
        "print(a)"
      ],
      "metadata": {
        "id": "2yuqnx_tcEsz",
        "colab": {
          "base_uri": "https://localhost:8080/"
        },
        "outputId": "adf1bda8-de8e-4583-888f-4c440faffc7a"
      },
      "execution_count": null,
      "outputs": [
        {
          "output_type": "stream",
          "name": "stdout",
          "text": [
            "['Tamara', 'arajin', 'kurs']\n"
          ]
        }
      ]
    },
    {
      "cell_type": "code",
      "source": [
        "#15 xndir - {} - set - dictionary, stanal ayn hamakargichneri anunnery, voronc giny poqr e 400ic\n",
        "computer1={\n",
        "\"name\": \"Lenovo\",\n",
        "\"model\": \"ideapad 3\",\n",
        "\"color\": \"grey\",\n",
        "\"year\": \"2022\",\n",
        "\"processor\": \"Intel Core i3\",\n",
        "\"price\":228\n",
        "}\n",
        "computer2={\n",
        "\"name\": \"Asus\",\n",
        "\"model\": \"Vivobook 16\",\n",
        "\"color\": \"black\",\n",
        "\"year\": \"2024\",\n",
        "\"processor\": \"Intel Core i5\",\n",
        "\"price\":390\n",
        "}\n",
        "computer3={\n",
        "\"name\": \"Acer\",\n",
        "\"model\": \"Aspire A315\",\n",
        "\"color\": \"white\",\n",
        "\"year\": \"2023\",\n",
        "\"processor\": \"Intel Core i7\",\n",
        "\"price\":750\n",
        "}\n",
        "computer4={\n",
        "\"name\": \"HP\",\n",
        "\"model\": \"Victus 15.6\",\n",
        "\"color\": \"grey\",\n",
        "\"year\": \"2020\",\n",
        "\"processor\": \"Intel Core i5\",\n",
        "\"price\":500\n",
        "}\n",
        "\n",
        "computers=[computer1,computer2,computer3]\n",
        "print(computers)\n",
        "computers.append(computer4)\n",
        "print(computers)\n",
        "\n",
        "for computer in computers:\n",
        "  if computer[\"price\"]<400:\n",
        "    print(computer[\"name\"])"
      ],
      "metadata": {
        "colab": {
          "base_uri": "https://localhost:8080/"
        },
        "id": "tRGX2XMqJSwc",
        "outputId": "89997760-6597-4921-f305-fb8152175b56"
      },
      "execution_count": null,
      "outputs": [
        {
          "output_type": "stream",
          "name": "stdout",
          "text": [
            "[{'name': 'Lenovo', 'model': 'ideapad 3', 'color': 'grey', 'year': '2022', 'processor': 'Intel Core i3', 'price': 228}, {'name': 'Asus', 'model': 'Vivobook 16', 'color': 'black', 'year': '2024', 'processor': 'Intel Core i5', 'price': 390}, {'name': 'Acer', 'model': 'Aspire A315', 'color': 'white', 'year': '2023', 'processor': 'Intel Core i7', 'price': 750}]\n",
            "[{'name': 'Lenovo', 'model': 'ideapad 3', 'color': 'grey', 'year': '2022', 'processor': 'Intel Core i3', 'price': 228}, {'name': 'Asus', 'model': 'Vivobook 16', 'color': 'black', 'year': '2024', 'processor': 'Intel Core i5', 'price': 390}, {'name': 'Acer', 'model': 'Aspire A315', 'color': 'white', 'year': '2023', 'processor': 'Intel Core i7', 'price': 750}, {'name': 'HP', 'model': 'Victus 15.6', 'color': 'grey', 'year': '2020', 'processor': 'Intel Core i5', 'price': 500}]\n",
            "Lenovo\n",
            "Asus\n"
          ]
        }
      ]
    },
    {
      "cell_type": "code",
      "source": [
        "#16 xndir - stanal 1+1/4+1/4^2+1/4^3+...+1/4^9\n",
        "def calculation(num1, num2=1, num3=4):\n",
        "  sum1=0\n",
        "  for i in range(num1+1):\n",
        "    sum1+=num2/(num3**i)\n",
        "  return sum1\n",
        "# I tarberak\n",
        "calculation(9)\n",
        "calculation(2)\n",
        "# II tarberak\n",
        "print(calculation(9))\n",
        "print(calculation(2))\n",
        "# III tarberak\n",
        "var1 = calculation(9)\n",
        "print(var1)"
      ],
      "metadata": {
        "colab": {
          "base_uri": "https://localhost:8080/"
        },
        "id": "3sGvIokI0BVF",
        "outputId": "b23a13d6-af38-4c17-b8f0-323a39eea5fd"
      },
      "execution_count": null,
      "outputs": [
        {
          "output_type": "stream",
          "name": "stdout",
          "text": [
            "1.3333320617675781\n",
            "1.3125\n",
            "1.3333320617675781\n"
          ]
        }
      ]
    },
    {
      "cell_type": "code",
      "source": [
        "#17 xndir - a ev b tvery kochvum en BAREKAM TVER, ete a tvi artadrichneri gumary havasar e b-in, isk b-i artadrichneri gumary havasar e a-in (or` 220 ev 284)\n",
        "#220: 1 2 5 10 11 20 22 44 55 110 bajanararneri gumary havasar e 284\n",
        "#284: 1 2 4 71 142 bajanararneri gumary havasar e 220\n",
        "a=int(input())\n",
        "b=int(input())\n",
        "sum_a = 0\n",
        "for i in range(1,a):\n",
        "  if a%i==0:\n",
        "    sum_a+=i\n",
        "sum_b = 0\n",
        "for k in range(1,b):\n",
        "  if b%k==0:\n",
        "    sum_b+=k\n",
        "if sum_a==b and  sum_b==a:\n",
        "  print(\"barekam tver\")\n",
        "else:\n",
        "  print(\"no\")"
      ],
      "metadata": {
        "colab": {
          "base_uri": "https://localhost:8080/"
        },
        "id": "poHL_NnQ3PZ1",
        "outputId": "7ac36df7-3146-41ec-d4f1-1f56bea4246e"
      },
      "execution_count": null,
      "outputs": [
        {
          "output_type": "stream",
          "name": "stdout",
          "text": [
            "220\n",
            "284\n",
            "barekam tver\n"
          ]
        }
      ]
    },
    {
      "cell_type": "code",
      "source": [
        "#18 xndir - funkciayov hashvel tveri gumar\n",
        "def sum(a, *b): #* sintaqs\n",
        "  s=0\n",
        "  for i in b:\n",
        "    s+=i\n",
        "  return (a+s)\n",
        "a=int(input('enter 1-st number:'))\n",
        "b=int(input('enter 2-nd number:'))\n",
        "x=int(input('enter 3-rd number:'))\n",
        "y=int(input('enter 4-th number:'))\n",
        "z=int(input('enter 5-th number:'))\n",
        "\n",
        "print(sum(a, b,x,y,z))\n",
        "print(sum(a, b,x))\n",
        "print(sum(a, b,x,y))\n",
        "#ete funkcian enq kanchum ev iran tvyal enq poxancum, dranq parametrer en\n",
        "#erb funkcian nkaragrum enq, ayd jamanak popoxakanner enq haytararum, iranq kochvum en argumentner"
      ],
      "metadata": {
        "colab": {
          "base_uri": "https://localhost:8080/"
        },
        "id": "CJV8Adh2-Fw6",
        "outputId": "2aac104f-dcad-4c2a-dcd7-54b47367bfdc"
      },
      "execution_count": null,
      "outputs": [
        {
          "output_type": "stream",
          "name": "stdout",
          "text": [
            "enter 1-st number:1\n",
            "enter 2-nd number:2\n",
            "enter 3-rd number:3\n",
            "enter 4-th number:4\n",
            "enter 5-th number:5\n",
            "15\n",
            "6\n",
            "10\n"
          ]
        }
      ]
    },
    {
      "cell_type": "code",
      "source": [
        "#19 xndir - fayl - \"r\" #r w a - parametr\n",
        "filename = open(\"/content/Новый текстовый документ.txt\", \"r\")\n",
        "print(filename.readlines())\n",
        "print()\n",
        "filename.close()"
      ],
      "metadata": {
        "colab": {
          "base_uri": "https://localhost:8080/"
        },
        "id": "4sJUrHdlUjK2",
        "outputId": "34d6d277-d077-4d5c-dc40-b4dfa4c919c5"
      },
      "execution_count": null,
      "outputs": [
        {
          "output_type": "stream",
          "name": "stdout",
          "text": [
            "['This is Delhi\\\\mThis is London\\\\mTamaraTamara']\n",
            "\n"
          ]
        }
      ]
    },
    {
      "cell_type": "code",
      "source": [
        "#20 xndir - fayl - \"w\"\n",
        "filename = open(\"/content/Новый текстовый документ.txt\", \"w\")\n",
        "l= [\"LONDON\", \"PARIS\"]\n",
        "filename.writelines(l)\n",
        "filename.close()"
      ],
      "metadata": {
        "id": "-wyajYjpVmfA"
      },
      "execution_count": null,
      "outputs": []
    },
    {
      "cell_type": "code",
      "source": [
        "#21 xndir - fayl - \"a\"\n",
        "filename = open(\"/content/Новый текстовый документ.txt\", \"a\")\n",
        "filename.write(\"Tamara\")\n",
        "filename.close()"
      ],
      "metadata": {
        "id": "s8U4dJDGWMMS"
      },
      "execution_count": null,
      "outputs": []
    },
    {
      "cell_type": "code",
      "source": [
        "#22 xndir - stanal funkcia, vory stanalu e kamayakan qanaki argument ev veradardzni argumentneric mecy\n",
        "def max( *args):\n",
        "  s=args[0]\n",
        "  for i in args:\n",
        "    if s<i:\n",
        "      s=i\n",
        "  return s\n",
        "print(max(2,51,97,78,75,446))\n",
        "print(max(2,51,97,78,75))"
      ],
      "metadata": {
        "colab": {
          "base_uri": "https://localhost:8080/"
        },
        "id": "w4ky_iHGYh4F",
        "outputId": "5da5bd9f-b574-441b-fda7-0d0da7173f9c"
      },
      "execution_count": null,
      "outputs": [
        {
          "output_type": "stream",
          "name": "stdout",
          "text": [
            "446\n",
            "97\n"
          ]
        }
      ]
    },
    {
      "cell_type": "code",
      "source": [
        "#23 xndir - stanal funkcia, vory stanalu e kamayakan qanaki argument ev stanal poxancvox arjeqneri zuyg elementneri qanaky\n",
        "def count(*args):\n",
        "  count1=0\n",
        "  for i in args:\n",
        "    if i%2==0:\n",
        "      count1+=1\n",
        "  return count1\n",
        "print(count(51,97,78,75,446, 1000))\n",
        "print(count(2,51,97,78, 100, 75, 200))"
      ],
      "metadata": {
        "colab": {
          "base_uri": "https://localhost:8080/"
        },
        "id": "0M5_sQf7ZojI",
        "outputId": "efbd9b08-e9bb-4fb5-b2c0-d7caffb7deb1"
      },
      "execution_count": null,
      "outputs": [
        {
          "output_type": "stream",
          "name": "stdout",
          "text": [
            "3\n",
            "4\n"
          ]
        }
      ]
    }
  ]
}